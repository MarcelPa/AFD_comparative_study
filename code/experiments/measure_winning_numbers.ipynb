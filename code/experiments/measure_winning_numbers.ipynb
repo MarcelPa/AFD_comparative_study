{
 "cells": [
  {
   "cell_type": "markdown",
   "metadata": {},
   "source": [
    "# Create winning numbers for ranking @ maximum recall table"
   ]
  },
  {
   "cell_type": "markdown",
   "metadata": {},
   "source": [
    "## Setup\n",
    "\n",
    "Load the .csv-files containing the results of r@mr table and set some configuration variables."
   ]
  },
  {
   "cell_type": "code",
   "execution_count": 1,
   "metadata": {},
   "outputs": [],
   "source": [
    "noise_types = [\"bogus\", \"copy\", \"typo\"]\n",
    "\n",
    "measure_map = {\n",
    "    'mu_corrected': '$\\\\mu\\'$',\n",
    "    \"g3_giannella\": \"$g'_3$\",\n",
    "    \"g3\": \"$g_3$\",\n",
    "    \"pdep\": \"$\\\\pdep$\",\n",
    "    \"tau\": \"$\\\\tau$\",\n",
    "    \"rho\": \"$\\\\rho$\",\n",
    "    \"g2\": \"$g_2$\",\n",
    "    \"fraction_of_information\": \"\\\\FI\",\n",
    "    \"g1_prime\": \"$g'_1$\",\n",
    "    \"g1\": \"$g_1$\",\n",
    "    \"rfi_corrected\": \"\\\\RFI'\",\n",
    "    \"smoothed_fraction_of_information_a0.5\": \"\\\\SFI\",\n",
    "}\n",
    "\n",
    "measure_order = [\"rho\", \"g2\", \"g3\", \"g3_giannella\", \"g1\", \"g1_prime\", \"pdep\", \"tau\", \"mu_corrected\", \"fraction_of_information\", \"rfi_corrected\", \"smoothed_fraction_of_information_a0.5\"]\n"
   ]
  },
  {
   "cell_type": "markdown",
   "metadata": {},
   "source": [
    "## Generate the winning numbers"
   ]
  },
  {
   "cell_type": "code",
   "execution_count": 5,
   "metadata": {},
   "outputs": [],
   "source": [
    "for noise_type in noise_types:\n",
    "    r_at_mr_file = open(\"../../results/r@mr_rwd{}.csv\".format(noise_type), \"r\")\n",
    "    output_file = open(\"../../results/winning_numbers_rwd{}.csv\".format(noise_type), \"w+\")\n",
    "\n",
    "    winning_numbers = [0 for _ in range(len(measure_order))]\n",
    "\n",
    "    all_scores_1 = [[] for _ in range(len(measure_order))]\n",
    "    all_scores_2 = [[] for _ in range(len(measure_order))]\n",
    "    all_scores_5 = [[] for _ in range(len(measure_order))]\n",
    "    all_scores_10 = [[] for _ in range(len(measure_order))]\n",
    "\n",
    "    for index, line in enumerate(r_at_mr_file.readlines()[2:]):\n",
    "        datasets = line.split(\",\")[1:]\n",
    "\n",
    "        for dataset in datasets:\n",
    "            splitted = dataset.split(\"|\")\n",
    "            all_scores_1[index].append(int(splitted[0]))\n",
    "            all_scores_2[index].append(int(splitted[1]))\n",
    "            all_scores_5[index].append(int(splitted[2]))\n",
    "            all_scores_10[index].append(int(splitted[3].strip()))\n",
    "\n",
    "    mins_1 = []\n",
    "    mins_2 = []\n",
    "    mins_5 = []\n",
    "    mins_10 = []\n",
    "\n",
    "    for dataset in range(len(datasets)):\n",
    "        mins_1.append(min([datasetlist[dataset] for datasetlist in all_scores_1]))\n",
    "        mins_2.append(min([datasetlist[dataset] for datasetlist in all_scores_2]))\n",
    "        mins_5.append(min([datasetlist[dataset] for datasetlist in all_scores_5]))\n",
    "        mins_10.append(min([datasetlist[dataset] for datasetlist in all_scores_10]))\n",
    "\n",
    "    for measureindex, measure in enumerate(all_scores_1):\n",
    "        for datasetindex, value in enumerate(measure):\n",
    "            if value == mins_1[datasetindex]:\n",
    "                winning_numbers[measureindex] += 1\n",
    "\n",
    "    for measureindex, measure in enumerate(all_scores_2):\n",
    "        for datasetindex, value in enumerate(measure):\n",
    "            if value == mins_2[datasetindex]:\n",
    "                winning_numbers[measureindex] += 1\n",
    "\n",
    "    for measureindex, measure in enumerate(all_scores_5):\n",
    "        for datasetindex, value in enumerate(measure):\n",
    "            if value == mins_5[datasetindex]:\n",
    "                winning_numbers[measureindex] += 1\n",
    "\n",
    "    for measureindex, measure in enumerate(all_scores_10):\n",
    "        for datasetindex, value in enumerate(measure):\n",
    "            if value == mins_10[datasetindex]:\n",
    "                winning_numbers[measureindex] += 1\n",
    "\n",
    "    output_file.write(\"{}\\n\".format(\",\".join([measure_map[measure] for measure in measure_order])))\n",
    "    output_file.write(\"{}\\n\".format(\",\".join([str(value) for value in winning_numbers])))\n",
    "    output_file.close()"
   ]
  }
 ],
 "metadata": {
  "kernelspec": {
   "display_name": "Python 3.8.9 64-bit",
   "language": "python",
   "name": "python3"
  },
  "language_info": {
   "codemirror_mode": {
    "name": "ipython",
    "version": 3
   },
   "file_extension": ".py",
   "mimetype": "text/x-python",
   "name": "python",
   "nbconvert_exporter": "python",
   "pygments_lexer": "ipython3",
   "version": "3.8.9"
  },
  "orig_nbformat": 4,
  "vscode": {
   "interpreter": {
    "hash": "31f2aee4e71d21fbe5cf8b01ff0e069b9275f58929596ceb00d14d90e3e16cd6"
   }
  }
 },
 "nbformat": 4,
 "nbformat_minor": 2
}
